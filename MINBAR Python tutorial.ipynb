{
 "cells": [
  {
   "cell_type": "markdown",
   "metadata": {
    "pycharm": {
     "name": "#%% md\n"
    }
   },
   "source": [
    "# MINBAR Python tutorial\n",
    "\n",
    "This notebook contains example code for accessing the Multi-INstrument Burst ARchive (MINBAR) data release 1.\n",
    "\n",
    "For a description of MINBAR, see the paper ([Galloway et al. 2020](https://ui.adsabs.harvard.edu/abs/2020ApJS..249...32G)) or the [website](http://burst.sci.monash.edu/minbar)\n",
    "\n",
    "The database is available in three forms:\n",
    "* a set of ASCII files, available from https://doi.org/10.26180/5e4a697d9b8b6\n",
    "* an online version at http://burst.sci.monash.edu (based on the IDL database)\n",
    "* an IDL database (not publicly available)\n",
    "\n",
    "This tutorial includes access options based on downloading the ASCII files and set them up as suggested in the `README.md` file in the repository, see the \"Using the MINBAR class\" section; but also direct access via the web portal, see \"Using the online web portal\""
   ]
  },
  {
   "cell_type": "code",
   "execution_count": null,
   "metadata": {
    "pycharm": {
     "name": "#%%\n"
    }
   },
   "outputs": [],
   "source": [
    "from math import *\n",
    "import numpy as np\n",
    "import pandas as pd\n",
    "\n",
    "import matplotlib.pyplot as plt\n",
    "%matplotlib inline\n",
    "\n",
    "import minbar"
   ]
  },
  {
   "cell_type": "markdown",
   "metadata": {
    "pycharm": {
     "name": "#%% md\n"
    }
   },
   "source": [
    "## Using the minbar class\n",
    "\n",
    "The minbar class can be used to load the databases from the ASCII files or IDL database.\n",
    "\n",
    "The two options provide _basically_ the same functionality, although the data structure is slightly different, and it affects the string formats (str for ASCII, but bytearrays for IDL). \n",
    "\n",
    "The ASCII files for both the bursts and observations include a subset of the events in the IDL database.\n",
    "\n",
    "The default behaviour is `IDL=False` so it's not required to use the keywords in the examples below if you have the ASCII files."
   ]
  },
  {
   "cell_type": "code",
   "execution_count": null,
   "metadata": {
    "pycharm": {
     "name": "#%%\n"
    }
   },
   "outputs": [],
   "source": [
    "# These commands load MINBAR, by default now from the ASCII files\n",
    "# you can switch to IDL with (instead) the flag IDL=True\n",
    "\n",
    "use_IDL_db = False\n",
    "b = minbar.Bursts(IDL=use_IDL_db)\n",
    "o = minbar.Observations(IDL=use_IDL_db)\n",
    "\n",
    "print(\"Got {} bursts and {} observations from MINBAR\".format(len(b),len(o)))"
   ]
  },
  {
   "cell_type": "markdown",
   "metadata": {
    "pycharm": {
     "name": "#%% md\n"
    }
   },
   "source": [
    "Basic functionality includes selecting bursts or observations from certain sources, or with certain criteria. In the example below, we select all the PCA bursts observed from 4U 1636-536 after MJD 53465. "
   ]
  },
  {
   "cell_type": "code",
   "execution_count": null,
   "metadata": {
    "pycharm": {
     "name": "#%%\n"
    }
   },
   "outputs": [],
   "source": [
    "b.name_like('1636-53') # you can use partial names here\n",
    "\n",
    "pca = b.instr_like('XP') # select all the RXTE/PCA bursts\n",
    "\n",
    "pca_fluence = b['fluen'][pca] # extract the fluen attribute for these bursts\n",
    "\n",
    "late = b['time']>53465.0\n",
    "late_pca_fluence = b['fluen'][pca&late]\n",
    "print(late_pca_fluence)"
   ]
  },
  {
   "cell_type": "code",
   "execution_count": null,
   "metadata": {
    "pycharm": {
     "name": "#%%\n"
    }
   },
   "outputs": [],
   "source": [
    "# Here's the same example, in one line\n",
    "\n",
    "late_pca_fluence = b['fluen'][pca & (b['time']>53465.0)]\n",
    "print (len(late_pca_fluence))\n",
    "\n",
    "# Consider all sources again, not just 1636-53\n",
    "\n",
    "b.clear()"
   ]
  },
  {
   "cell_type": "markdown",
   "metadata": {
    "pycharm": {
     "name": "#%% md\n"
    }
   },
   "source": [
    "Data is returned as numpy arrays, and we can use matplotlib to do some simple plotting (see also http://matplotlib.org/users/pyplot_tutorial.html)"
   ]
  },
  {
   "cell_type": "code",
   "execution_count": null,
   "metadata": {
    "pycharm": {
     "name": "#%%\n"
    }
   },
   "outputs": [],
   "source": [
    "b.name_like('1636-53')\n",
    "\n",
    "good = b['sflag'] == '-' # include only the bursts without data analysis flags\n",
    "\n",
    "fluence = b['bfluen'][good]\n",
    "fpeak = b['bpflux'][good]\n",
    "# print fluence\n",
    "\n",
    "plt.plot(fluence, fpeak, '.')\n",
    "plt.ylabel(r'$F_{\\rm peak}\\ (10^{-9}\\ {\\rm erg\\,cm^{-2}\\,s^{-1}}$')\n",
    "plt.xlabel(r'$E_b\\ (10^{-6}\\ {\\rm erg\\,cm^{-2}})$')\n",
    "plt.show()\n",
    "\n",
    "b.clear()"
   ]
  },
  {
   "cell_type": "markdown",
   "metadata": {
    "pycharm": {
     "name": "#%% md\n"
    }
   },
   "source": [
    "## Select a particular observation and perform some analysis\n",
    "\n",
    "Here we select a particular observation, and generate the observation object to perform some analysis"
   ]
  },
  {
   "cell_type": "code",
   "execution_count": null,
   "metadata": {
    "pycharm": {
     "name": "#%%\n"
    }
   },
   "outputs": [],
   "source": [
    "# Select a particular observation and retrieve the lightcurve\n",
    "\n",
    "o.name_like('1636')\n",
    "sel = o.instr_like('pca') & (o['nburst'] > 0)\n",
    "# print (o['entry'][sel][0])\n",
    "\n",
    "obs_db_item = o[o['entry'][sel][0]] # contains the table row data corresponding to the first observation\n",
    "print (obs_db_item)"
   ]
  },
  {
   "cell_type": "code",
   "execution_count": null,
   "metadata": {
    "pycharm": {
     "name": "#%%\n"
    }
   },
   "outputs": [],
   "source": [
    "print (\"Now creating observation from entry #{}\\n\".format(obs_db_item['entry']))\n",
    "\n",
    "obs_db = minbar.Observation(obs_db_item)\n",
    "\n",
    "print (obs_db)"
   ]
  },
  {
   "cell_type": "code",
   "execution_count": null,
   "outputs": [],
   "source": [
    "# Can achieve the same thing by specifying the instrument, source and obsid \n",
    "\n",
    "xte = minbar.Instrument('PCA', camera='a')\n",
    "obs = minbar.Observation(None, instr=xte, name='4U 1636-536', obsid='10088-01-07-02')\n",
    "\n",
    "print (obs_db.instr, obs_db.name, obs_db.obsid)\n",
    "\n",
    "# obs.instr.source_path[obs.instr.source == '4U 1636-356']\n",
    "obs_db.instr.source_path[obs.instr.source_name == '4U 1636-536']"
   ],
   "metadata": {
    "collapsed": false,
    "pycharm": {
     "name": "#%%\n"
    }
   }
  },
  {
   "cell_type": "code",
   "execution_count": null,
   "metadata": {
    "pycharm": {
     "name": "#%%\n"
    }
   },
   "outputs": [],
   "source": [
    "s = minbar.Sources()\n",
    "print (\"Got {} sources from the MINBAR catalog\".format(len(s)))"
   ]
  },
  {
   "cell_type": "code",
   "execution_count": null,
   "metadata": {
    "pycharm": {
     "name": "#%%\n"
    }
   },
   "outputs": [],
   "source": [
    "llim, blim = 45, 20\n",
    "nburst_min_annotate = 50\n",
    "url_base='https://burst.sci.monash.edu/aqoutput?dtype=bursts&fields=name%2Ctime%2Cinstr&output=html&timef=mjd&query_field_select=name&qfield=type&query_op=%3D&query_val=1&query_reln=%26&qfield=name&query_op=%3D&query_val={}'\n",
    "\n",
    "def source_plot(gal, nburst, name=None, radian=True):\n",
    "    '''\n",
    "    Simple plotting routine to plot the MINBAR sources differently depending on the number of bursts\n",
    "    '''\n",
    "    \n",
    "    has_bursts = nburst>0\n",
    "    no_bursts = nburst==0\n",
    "    \n",
    "    if radian:\n",
    "        plt.scatter(gal[no_bursts].l.wrap_at('180d').radian, gal[no_bursts].b.radian, marker='x')\n",
    "        plt.scatter(gal[has_bursts].l.wrap_at('180d').radian, gal[has_bursts].b.radian)\n",
    "    else:\n",
    "        plt.scatter(gal[no_bursts].l.wrap_at('180d'), gal[no_bursts].b, marker='x')\n",
    "        plt.scatter(gal[has_bursts].l.wrap_at('180d'), gal[has_bursts].b)\n",
    "\n",
    "# https://docs.astropy.org/en/stable/coordinates/\n",
    "\n",
    "from astropy import units as u\n",
    "from astropy.coordinates import SkyCoord\n",
    "c = SkyCoord(ra=s['ra_obj']*u.degree, dec=s['dec_obj']*u.degree, frame='icrs')\n",
    "\n",
    "# convert to Galactic coordinates\n",
    "\n",
    "gal = c.galactic\n",
    "\n",
    "# and plot; example adapted from\n",
    "# https://astronomy.stackexchange.com/questions/32601/how-do-i-plot-galactic-coordinates-using-matplotlib-and-astropy-in-python\n",
    "#\n",
    "# multiple panels from \n",
    "# https://matplotlib.org/3.1.0/gallery/subplots_axes_and_figures/subplots_demo.html\n",
    "\n",
    "plt.figure(figsize=(20,5))\n",
    "\n",
    "plt.subplot(121, projection='aitoff')\n",
    "plt.grid(True)\n",
    "# ax1.axes(projection='aitoff')\n",
    "# plt.scatter(gal.l.wrap_at('180d').radian, gal.b.radian)\n",
    "source_plot(gal, s['nburst'])\n",
    "# show zoom box\n",
    "\n",
    "plt.plot(np.array([-llim, -llim, llim, llim, -llim])*pi/180, \n",
    "         np.array([-blim, blim, blim, -blim, -blim])*pi/180, 'r')\n",
    "\n",
    "# hyperlink annotations; see \n",
    "# https://stackoverflow.com/questions/15417586/python-matlplotlib-add-hyperlink-to-text\n",
    "\n",
    "for i, txt in enumerate(s['name']):\n",
    "    # print (i, txt, gal[i].l.value, gal[i].b.value, s['nburst'][i])\n",
    "\n",
    "    # plt.annotate(s['nburst'][i], (gal[i].l.wrap_at('180d').radian, gal[i].b.radian))\n",
    "    if (s['nburst'][i] > nburst_min_annotate) and ((gal[i].l.value > llim and gal[i].l.value < 360-llim) or (abs(gal[i].b.value) > blim)):\n",
    "        # print (txt, s['nburst'][i], (gal[i].l.radian, gal[i].b.radian))\n",
    "        # print (url_base.format(s['name'][i].replace(' ','+')))\n",
    "        plt.annotate(txt, (gal[i].l.wrap_at('180d').radian, gal[i].b.radian), \n",
    "                     url=url_base.format(s['name'][i].replace(' ','+')))\n",
    "\n",
    "plt.subplot(122)\n",
    "plt.grid(True)\n",
    "# plt.scatter(gal.l.wrap_at('180d'), gal.b)#, aspect=0.5)\n",
    "source_plot(gal, s['nburst'], radian=False)#, aspect=0.5)\n",
    "\n",
    "for i, txt in enumerate(s['name']):\n",
    "    if ((gal[i].l.value < llim) | (gal[i].l.value > 360-llim)) & (abs(gal.b[i].value) < blim) & (abs(gal.b[i].value) > 0.75) & (s['nburst'][i] > nburst_min_annotate): \n",
    "        # print (txt, s['nburst'][i])\n",
    "        plt.annotate(txt, (gal[i].l.wrap_at('180d').value, gal[i].b.value),\n",
    "                    url=url_base.format(s['name'][i].replace(' ','+')))\n",
    "\n",
    "plt.xlim(-llim, llim)\n",
    "plt.ylim(-blim, blim)\n",
    "#plt.set_aspect(0.5)\n",
    "\n",
    "# plt.savefig('sources.svg')"
   ]
  },
  {
   "cell_type": "markdown",
   "metadata": {
    "pycharm": {
     "name": "#%% md\n"
    }
   },
   "source": [
    "## Using the online web portal\n",
    "\n",
    "The portal at http://burst.sci.monash.edu can be used to select bursts and observations from the MINBAR sample, and do simple plotting. In the case that you've selected some events there and want to do some more complex analysis, you can use the URL with the ASCII output option to read the table directly into Python.\n",
    "\n",
    "In this example we've run a search on the bursts to replicate the selection performed above, that is, all the unflagged RXTE/PCA bursts from 4U 1636-536, and then chosen the ASCII output option. The resulting URL is defined below\n",
    "\n",
    "Note for this query we've included the `entry` field for ease of identification of the different events. This field could be adopted as the pandas table index."
   ]
  },
  {
   "cell_type": "code",
   "execution_count": null,
   "metadata": {
    "pycharm": {
     "name": "#%%\n"
    }
   },
   "outputs": [],
   "source": [
    "portal_url = 'https://burst.sci.monash.edu/aqoutput?dtype=bursts&fields=entry%2Cname%2Ctime%2Cbfluen%2Cbpflux&output=topcat&timef=mjd&qfield=type&query_op=%3D&query_val=1&query_reln=%26&qfield=name&query_op=%3D&query_val=1636&query_reln=%26&qfield=sflag&query_op=%3D&query_val=-'\n",
    "\n",
    "c=pd.read_csv(portal_url, comment='#', sep='\\t', header=0, index_col=False)\n",
    "\n",
    "c"
   ]
  },
  {
   "cell_type": "code",
   "execution_count": null,
   "metadata": {
    "pycharm": {
     "name": "#%%\n"
    }
   },
   "outputs": [],
   "source": [
    "# Here we replicate the plot from use of the ASCII tables\n",
    "\n",
    "plt.plot(c['bfluen'],c['bpflux'],'.')\n",
    "\n",
    "plt.ylabel(r'$F_{\\rm peak}\\ (10^{-9}\\ {\\rm erg\\,cm^{-2}\\,s^{-1}}$')\n",
    "plt.xlabel(r'$E_b\\ (10^{-6}\\ {\\rm erg\\,cm^{-2}})$')"
   ]
  },
  {
   "cell_type": "code",
   "execution_count": null,
   "metadata": {
    "pycharm": {
     "name": "#%%\n"
    }
   },
   "outputs": [],
   "source": []
  }
 ],
 "metadata": {
  "kernelspec": {
   "display_name": "Python 3 (ipykernel)",
   "language": "python",
   "name": "python3"
  },
  "language_info": {
   "codemirror_mode": {
    "name": "ipython",
    "version": 3
   },
   "file_extension": ".py",
   "mimetype": "text/x-python",
   "name": "python",
   "nbconvert_exporter": "python",
   "pygments_lexer": "ipython3",
   "version": "3.9.12"
  }
 },
 "nbformat": 4,
 "nbformat_minor": 1
}